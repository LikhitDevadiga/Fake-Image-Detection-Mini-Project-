from PIL import Image, ImageChops, ImageEnhance
import matplotlib.pyplot as plt
import numpy as np
from skimage import util
from sklearn.cluster import KMeans

def convert_to_ela_image(image, scale=10):
    """Convert the image to Error Level Analysis (ELA) representation."""
    temp = image.copy()
    temp = temp.resize((temp.width // scale, temp.height // scale), Image.BICUBIC)

    ela_image = ImageChops.difference(image, temp)
    extrema = ela_image.getextrema()
    max_diff = max([ex[1] for ex in extrema])
    if max_diff == 0:
        max_diff = 1
    scale = 255.0 / max_diff
    ela_image = ImageEnhance.Brightness(ela_image).enhance(scale)
    return ela_image, max_diff

def ela_score(image_path, scale=10):
    """Calculate the ELA score for an image."""
    original_image = Image.open(image_path)
    ela_image, max_diff = convert_to_ela_image(original_image, scale=scale)
    return ela_image, max_diff

def display_images(original_image, ela_image):
    """Display the original and ELA images."""
    plt.figure(figsize=(10, 5))

    plt.subplot(1, 2, 1)
    plt.imshow(original_image)
    plt.title("Original Image")

    plt.subplot(1, 2, 2)
    plt.imshow(ela_image, cmap="gray")
    plt.title("Error Level Analysis (ELA) Image")

    plt.show()

def copy_move_detection(image_path, block_size=8):
    """Detect copy-move forgery using DCT."""
    original_image = Image.open(image_path).convert("L")
    image_array = np.array(original_image)

    # Apply 2D DCT using block_reduce
    dct_features = util.view_as_blocks(image_array, (block_size, block_size))
    dct_features = np.fft.fft2(dct_features, norm="ortho")
    dct_features = np.fft.fftshift(dct_features)

    # Flatten real part of DCT coefficients for clustering
    reshaped_dct = np.real(dct_features).reshape((image_array.shape[0] // block_size, image_array.shape[1] // block_size, -1))

    # Reshape to 2D array for K-means clustering
    reshaped_dct = reshaped_dct.reshape((-1, reshaped_dct.shape[-1]))

    # Use K-means clustering to group similar DCT coefficients
    kmeans = KMeans(n_clusters=2)
    kmeans.fit(reshaped_dct)

    # Assign labels to the DCT coefficients
    labels = kmeans.labels_.reshape((image_array.shape[0] // block_size, image_array.shape[1] // block_size))

    # Create a binary mask for the copied regions
    copy_mask = (labels == labels[0, 0])

    return copy_mask

# Example usage:
image_path = "PATH OF YOUR IMAGE (EXAMPLE - C:\Users\ABC\OneDrive\Pictures.jpg)"
scale_factor = 10

original_image = Image.open(image_path)
ela_image, max_diff = ela_score(image_path, scale=scale_factor)
display_images(original_image, ela_image)

# Set a threshold value for ELA
threshold_ela = 180.0

# Check if the ELA score is above the threshold
if max_diff > threshold_ela:
    print("The image may be manipulated based on ELA (fake).")

    # Perform copy-move detection
    copy_mask = copy_move_detection(image_path)

    # Display the copy-move detection result
    plt.imshow(copy_mask, cmap="gray")
    plt.title("Copy-Move Forgery Detection")
    plt.show()

else:
    print("The image appears to be genuine based on ELA (real).")
